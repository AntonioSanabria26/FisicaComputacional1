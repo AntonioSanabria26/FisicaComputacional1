{
  "nbformat": 4,
  "nbformat_minor": 0,
  "metadata": {
    "colab": {
      "name": "Actividad 3",
      "provenance": [],
      "collapsed_sections": [
        "6Q-ZRZ4xntVr"
      ],
      "toc_visible": true,
      "authorship_tag": "ABX9TyMaPmv1KAeP6UA0L5CejtQl",
      "include_colab_link": true
    },
    "kernelspec": {
      "name": "python3",
      "display_name": "Python 3"
    }
  },
  "cells": [
    {
      "cell_type": "markdown",
      "metadata": {
        "id": "view-in-github",
        "colab_type": "text"
      },
      "source": [
        "<a href=\"https://colab.research.google.com/github/AntonioSanabria26/FisicaComputacional1/blob/master/Actividad_3.ipynb\" target=\"_parent\"><img src=\"https://colab.research.google.com/assets/colab-badge.svg\" alt=\"Open In Colab\"/></a>"
      ]
    },
    {
      "cell_type": "markdown",
      "metadata": {
        "id": "6Q-ZRZ4xntVr"
      },
      "source": [
        "# **Librerias**"
      ]
    },
    {
      "cell_type": "code",
      "metadata": {
        "id": "8WvKzzZmnpfA"
      },
      "source": [
        "import numpy as np\n",
        "import pandas as pd\n",
        "import matplotlib.pyplot as plt\n"
      ],
      "execution_count": 2,
      "outputs": []
    },
    {
      "cell_type": "markdown",
      "metadata": {
        "id": "jMpIzz1SoQme"
      },
      "source": [
        "# **Código**"
      ]
    },
    {
      "cell_type": "code",
      "metadata": {
        "colab": {
          "base_uri": "https://localhost:8080/"
        },
        "id": "fwsYP-TPoZmj",
        "outputId": "5478ce72-c052-4f9b-ea5f-514bbc01b0fa"
      },
      "source": [
        "#----------- LEYENDO EL URL, DONDE EL ARCHIVO ESTA EN FORMATO CSV -------------#\n",
        "\n",
        "URL = \"https://raw.githubusercontent.com/AntonioSanabria26/FisicaComputacional1/master/Actividad1/26179.csv\"\n",
        "df = pd.read_csv( URL )\n",
        "\n",
        "#--------------------------- ESTRUCTURA DEL TEXTO -----------------------------#\n",
        "\n",
        "df = df.drop(range(0,17),axis=0)\n",
        "df = df.drop([8108,8109])\n",
        "# ELIMINACIÓN DE LAS PRIMERAS 17 LINEAS\n",
        "df = df.dropna() \n",
        "# ELIMINACION DE LAS FILAS CON N/A\n",
        "df = df.replace(to_replace= \"Nulo\" ,value = \"N/A\",regex= True )\n",
        "# REMPLAZANDO LOS \"Nulo\" , por N/A\n",
        "\n",
        "df = df[\"CNA-SMN-CG-GMC-SMAA-CLIMATOLOGIA\"].str.split(\"\\s+\", n=5, expand=True)\n",
        "#SEPARANDO LA CADENA DE TEXTO EN 5 COLUMNAS, CON SPLIT DE ESPACIO+, PARA QUE\n",
        "#PUEDA TOMAR VALORES ENCIMA DE 1 ESPACIO DE LA MEMORIA\n",
        "\n",
        "df.columns = ['Fecha', 'Precipitacion', 'Evaporacion', 'Tmax', 'Tmin']\n",
        "#NOMBRE DE LAS COLUMNAS\n",
        "\n",
        "df_columns =['Precipitacion', 'Evaporacion', 'Tmax', 'Tmin']\n",
        "for i in df_columns:\n",
        "  df[i] = pd.to_numeric( df[i] ,errors = \"coerce\")\n",
        "#CONVIRTIENDO LAS COLUMNAS df_columns A FLOTANTES\n",
        "\n",
        "\n",
        "\n",
        "#---------------------------- LECTURA DE DATOS --------------------------------#\n",
        "\n",
        "print(df.head(20)) #PRIMERO 10 DATOS DEL DATAFRAME\n",
        "print(\"\")\n",
        "print(df.tail(20)) #ULTIMOS 10 DATOS DEL DATAFRAME\n",
        "print(\"\")\n",
        "print(f\"Dimensiones del DataFrame {df.shape}\")\n",
        "print(\"\")\n",
        "print(df.describe())\n"
      ],
      "execution_count": 79,
      "outputs": [
        {
          "output_type": "stream",
          "text": [
            "         Fecha  Precipitacion  Evaporacion  Tmax  Tmin\n",
            "18  01/07/1974            0.0          7.3  35.0  22.0\n",
            "19  02/07/1974            0.0         10.5  34.0  22.5\n",
            "20  03/07/1974            0.0         13.6  31.5  21.0\n",
            "21  04/07/1974            0.0         10.7  41.0  28.0\n",
            "22  05/07/1974            0.0         10.9  35.0  28.0\n",
            "23  06/07/1974            0.0         11.4  32.0  29.0\n",
            "24  07/07/1974            0.0          9.4  31.5  26.0\n",
            "25  08/07/1974            0.0         10.1  32.0  26.0\n",
            "26  09/07/1974            0.0          7.4  32.0  26.0\n",
            "27  10/07/1974            0.0         12.3  34.0  25.0\n",
            "28  11/07/1974            0.0          6.2  31.0  26.0\n",
            "29  12/07/1974           18.8          5.5  31.5  28.0\n",
            "30  13/07/1974            0.0          7.1  31.5  22.0\n",
            "31  14/07/1974            0.0          8.0  31.0  23.0\n",
            "32  15/07/1974            0.0          8.6  32.0  25.0\n",
            "33  16/07/1974            0.0          5.7  35.0  21.0\n",
            "34  17/07/1974           23.0          4.3  33.0  23.0\n",
            "35  18/07/1974            0.0          2.9  29.0  22.0\n",
            "36  19/07/1974            0.0          5.6  31.0  24.0\n",
            "37  20/07/1974            0.0          NaN  31.5  24.0\n",
            "\n",
            "           Fecha  Precipitacion  Evaporacion  Tmax  Tmin\n",
            "8088  10/04/2016            0.0          5.7  23.0  11.5\n",
            "8089  11/04/2016            0.0          5.3  23.5  10.5\n",
            "8090  12/04/2016            0.0          6.1  23.0  10.5\n",
            "8091  13/04/2016            0.0          6.3  26.5  11.0\n",
            "8092  14/04/2016            0.0          5.5  25.5  10.5\n",
            "8093  15/04/2016            0.0          6.2  25.0  10.5\n",
            "8094  16/04/2016            0.0          9.4  21.0   9.0\n",
            "8095  17/04/2016            0.0          7.4  26.0   1.0\n",
            "8096  18/04/2016            0.0          7.9  28.5  10.0\n",
            "8097  19/04/2016            0.0          7.2  28.5  10.5\n",
            "8098  20/04/2016            0.0          6.4  28.5  10.0\n",
            "8099  21/04/2016            0.0          5.9  28.5   9.5\n",
            "8100  22/04/2016            0.0          5.8  24.5  11.0\n",
            "8101  23/04/2016            0.0          4.6  23.0  12.0\n",
            "8102  24/04/2016            0.0          6.1  24.0  12.0\n",
            "8103  25/04/2016            0.0          5.8  24.0   2.0\n",
            "8104  26/04/2016            0.0          7.4  25.0  13.0\n",
            "8105  27/04/2016            0.0          5.8  23.5   8.0\n",
            "8106  28/04/2016            0.0          5.7  23.0   7.5\n",
            "8107  29/04/2016            0.0          6.4  22.0  11.5\n",
            "\n",
            "Dimensiones del DataFrame (8090, 5)\n",
            "\n",
            "       Precipitacion  Evaporacion         Tmax         Tmin\n",
            "count    8073.000000  5852.000000  7869.000000  7880.000000\n",
            "mean        0.345869     5.933681    27.154378    13.952881\n",
            "std         2.831741     2.643080     5.720917     7.084157\n",
            "min         0.000000     0.100000     9.000000    -4.000000\n",
            "25%         0.000000     4.000000    22.500000     8.000000\n",
            "50%         0.000000     5.800000    27.000000    12.500000\n",
            "75%         0.000000     7.700000    32.000000    20.000000\n",
            "max        85.000000    17.700000    48.500000    30.000000\n"
          ],
          "name": "stdout"
        }
      ]
    }
  ]
}