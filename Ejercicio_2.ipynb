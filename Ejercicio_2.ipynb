{
  "nbformat": 4,
  "nbformat_minor": 0,
  "metadata": {
    "colab": {
      "name": "Ejercicio 2.ipynb",
      "provenance": [],
      "authorship_tag": "ABX9TyNIbj/AxZCDJKTjKtybus2R",
      "include_colab_link": true
    },
    "kernelspec": {
      "name": "python3",
      "display_name": "Python 3"
    }
  },
  "cells": [
    {
      "cell_type": "markdown",
      "metadata": {
        "id": "view-in-github",
        "colab_type": "text"
      },
      "source": [
        "<a href=\"https://colab.research.google.com/github/AntonioSanabria26/FisicaComputacional1/blob/master/Ejercicio_2.ipynb\" target=\"_parent\"><img src=\"https://colab.research.google.com/assets/colab-badge.svg\" alt=\"Open In Colab\"/></a>"
      ]
    },
    {
      "cell_type": "markdown",
      "metadata": {
        "id": "Z5MT4A6ov1_q"
      },
      "source": [
        "# **Caculadora de las raices de ecuaciones cuadraticas**"
      ]
    },
    {
      "cell_type": "code",
      "metadata": {
        "colab": {
          "base_uri": "https://localhost:8080/"
        },
        "id": "0p282YtqvZxh",
        "outputId": "f9f0e310-6631-4023-9b68-ff21736127e8"
      },
      "source": [
        "#----------------------------- BIBLIOTECAS ------------------------------------#\n",
        "\n",
        "import numpy as np \n",
        "\n",
        "#---------------------------  VALORES A LEER ----------------------------------#\n",
        "\n",
        "print(\"Porfavor introduzca el valor de a: \",end=\"\")\n",
        "A = float(input())\n",
        "print(\"Porfavor introduzca el valor de b: \",end=\"\")\n",
        "B = float(input())\n",
        "print(\"Porfavor introduzca el valor de c: \",end=\"\")\n",
        "C = float(input())\n",
        "\n",
        "#----------------------------- OPERADORES -------------------------------------#\n",
        "\n",
        "# Calculando el descriminante\n",
        "\n",
        "D = np.sqrt(B**2 - (4*A*C))\n",
        "\n",
        "#--------------------------- LOOPS DE CASOS -----------------------------------#\n",
        "if D>=0:\n",
        "  X1 = (-B+D)/2*A\n",
        "  X2 = (-B-D)/2*A\n",
        "\n",
        "  print(\"La primera raíz es = {:.5f}\".format(X1))\n",
        "  print(\"La segunda raíz es = {:.5f}\".format(X2))\n",
        "\n",
        "else:\n",
        "  print(\"El discriminante es negativo, así esta ecuación no tiene soluciones reales.\")\n",
        "\n",
        "#------------------------------------------------------------------------------#\n",
        "\n"
      ],
      "execution_count": 22,
      "outputs": [
        {
          "output_type": "stream",
          "text": [
            "Porfavor introduzca el valor de a:1\n",
            "Porfavor introduzca el valor de b:-2\n",
            "Porfavor introduzca el valor de c:-4\n",
            "La primera raíz es = 3.23607\n",
            "La segunda raíz es = -1.23607\n"
          ],
          "name": "stdout"
        }
      ]
    }
  ]
}