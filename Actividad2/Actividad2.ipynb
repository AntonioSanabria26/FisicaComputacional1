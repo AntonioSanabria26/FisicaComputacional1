{
  "nbformat": 4,
  "nbformat_minor": 0,
  "metadata": {
    "colab": {
      "name": "Actividad2.ipynb",
      "provenance": [],
      "authorship_tag": "ABX9TyNdd7uYwiFNaBSP5hQsvE/y",
      "include_colab_link": true
    },
    "kernelspec": {
      "name": "python3",
      "display_name": "Python 3"
    }
  },
  "cells": [
    {
      "cell_type": "markdown",
      "metadata": {
        "id": "view-in-github",
        "colab_type": "text"
      },
      "source": [
        "<a href=\"https://colab.research.google.com/github/AntonioSanabria26/FisicaComputacional1/blob/master/Actividad2/Actividad2.ipynb\" target=\"_parent\"><img src=\"https://colab.research.google.com/assets/colab-badge.svg\" alt=\"Open In Colab\"/></a>"
      ]
    },
    {
      "cell_type": "markdown",
      "metadata": {
        "id": "btVfNyPtv3KU"
      },
      "source": [
        "\n",
        "\n",
        "\n",
        "# **Bibliotecas utilizadas**\n"
      ]
    },
    {
      "cell_type": "code",
      "metadata": {
        "id": "lFyNJDNnv_LM"
      },
      "source": [
        "# Importando numpy para usar matematicas\n",
        "import numpy as np"
      ],
      "execution_count": null,
      "outputs": []
    },
    {
      "cell_type": "markdown",
      "metadata": {
        "id": "zkkzl9S8uJiW"
      },
      "source": [
        "# **Calculo de área para un Rectángulo**\n",
        "\n",
        "Formulas utilizadas en el calculo del area del rectangulo\n",
        "\n",
        "$$ A = BA $$"
      ]
    },
    {
      "cell_type": "code",
      "metadata": {
        "colab": {
          "base_uri": "https://localhost:8080/"
        },
        "id": "jB2mZe47uDD-",
        "outputId": "849d239c-e486-46f7-9e9b-c71c70e1ce86"
      },
      "source": [
        "# Se utiliza el símbolo # para hacer comentarios.\n",
        "# Se define una función de 2 variables para calcular el área.  \n",
        "def area(x, y):\n",
        "    return x*y\n",
        "\n",
        "print(\"Proporciona el largo y altura del rectángulo: \", end=\"\")\n",
        "l = float(input())\n",
        "w = float(input())\n",
        "a = area(l, w)\n",
        "# Imprime el valor del área en formato libre.\n",
        "print(\"\\nArea = \", a)\n",
        "# Imprime el valor del área con 2 decimales. \n",
        "print(\"\\nArea = {:.2f}\".format(a))"
      ],
      "execution_count": null,
      "outputs": [
        {
          "output_type": "stream",
          "text": [
            "Proporciona el largo y altura del rectángulo: 4\n",
            "3\n",
            "\n",
            "Area =  12.0\n",
            "\n",
            "Area = 12.00\n"
          ],
          "name": "stdout"
        }
      ]
    },
    {
      "cell_type": "markdown",
      "metadata": {
        "id": "jg_FwJ4Qr-gD"
      },
      "source": [
        "# **Calculo de área para un Circulo**\n",
        "\n",
        "Formula utilizada en el calculo del area de un ciculo\n",
        "\n",
        "$$ A = \\pi r²$$\n",
        "\n",
        "\n",
        "\n",
        "\n",
        "\n"
      ]
    },
    {
      "cell_type": "code",
      "metadata": {
        "colab": {
          "base_uri": "https://localhost:8080/"
        },
        "id": "pNaqdsXNsayB",
        "outputId": "3e632191-6208-4e60-c6b6-2e1162984abb"
      },
      "source": [
        "def Area(r) : return np.pi*r**2\n",
        "\n",
        "print(\"Porfavor introduzca el radio del circulo: \", end=\"\")\n",
        "\n",
        "r = float(input())\n",
        "A = Area(r)\n",
        "\n",
        "print(\"\\nArea = {:.5f}\".format(A))"
      ],
      "execution_count": null,
      "outputs": [
        {
          "output_type": "stream",
          "text": [
            "Porfavor introduzca el radio del circulo: 52\n",
            "\n",
            "Area = 8494.86654\n"
          ],
          "name": "stdout"
        }
      ]
    },
    {
      "cell_type": "code",
      "metadata": {
        "id": "cPBn7gBmtmLw"
      },
      "source": [
        ""
      ],
      "execution_count": null,
      "outputs": []
    },
    {
      "cell_type": "markdown",
      "metadata": {
        "id": "NPM82xDjvEcI"
      },
      "source": [
        "# **Calculo de área para una Elipse**\n",
        "\n",
        "Formula utilizada en el calculo del area de una elipse\n",
        "\n",
        "$$ A = \\pi r_1 r_2$$"
      ]
    },
    {
      "cell_type": "code",
      "metadata": {
        "colab": {
          "base_uri": "https://localhost:8080/"
        },
        "id": "cs2-9VnpwGHV",
        "outputId": "2880cf23-7d50-430c-d42b-8c7d5e411a49"
      },
      "source": [
        "def Area(r1,r2) : return (np.pi*r1*r2)\n",
        "\n",
        "print(\"Porfavor introduzca el radio mayor de la elipse: \", end=\"\")\n",
        "r1 = float(input())\n",
        "print(\"Porfavor introduzca el radio menor de la elipse: \", end=\"\")\n",
        "r2 = float(input())\n",
        "A = Area(r,r2)\n",
        "\n",
        "print(\"\\nArea = {:.5f}\".format(A))"
      ],
      "execution_count": null,
      "outputs": [
        {
          "output_type": "stream",
          "text": [
            "Porfavor introduzca el radio mayor de la elipse: 52\n",
            "Porfavor introduzca el radio menor de la elipse: 12\n",
            "\n",
            "Area = 1960.35382\n"
          ],
          "name": "stdout"
        }
      ]
    },
    {
      "cell_type": "markdown",
      "metadata": {
        "id": "FWtbc-r0vLmT"
      },
      "source": [
        "# **Calculo del volumen para una Esfera**\n",
        "Formula utilizada en el calculo del volúmen de una esfera\n",
        "\n",
        "$$ V = \\frac{4}{3} \\pi r³$$\n"
      ]
    },
    {
      "cell_type": "code",
      "metadata": {
        "colab": {
          "base_uri": "https://localhost:8080/"
        },
        "id": "7qTGC-F7xEiO",
        "outputId": "ecea5f80-553b-4df5-fa58-daae5a941942"
      },
      "source": [
        "def Volumen(r) : return ((4/3)*np.pi*(r**3))\n",
        "\n",
        "print(\"Porfavor introduzca el radio de la esfera: \", end=\"\")\n",
        "r = float(input())\n",
        "V = Volumen(r)\n",
        "\n",
        "print(\"\\nArea = {:.5f}\".format(V))"
      ],
      "execution_count": null,
      "outputs": [
        {
          "output_type": "stream",
          "text": [
            "Porfavor introduzca el radio de la esfera: 51\n",
            "\n",
            "Area = 555647.20946\n"
          ],
          "name": "stdout"
        }
      ]
    },
    {
      "cell_type": "markdown",
      "metadata": {
        "id": "LnDYMyGex-Bg"
      },
      "source": [
        "# **Calculo del volumen para un cilindro circular**\n",
        "\n",
        "Formula utilizada en el calculo del area de un ciculo\n",
        "\n",
        "$$ V = \\pi r²h$$"
      ]
    },
    {
      "cell_type": "code",
      "metadata": {
        "colab": {
          "base_uri": "https://localhost:8080/"
        },
        "id": "cmCTgUBxyKos",
        "outputId": "82733d4e-e474-46b4-b3e7-bff3287e6177"
      },
      "source": [
        "def Volumen(r,h) : return ((r**2)*np.pi*(h))\n",
        "\n",
        "print(\"Porfavor introduzca el radio del cilindro: \", end=\"\")\n",
        "r = float(input())\n",
        "print(\"Porfavor introduzca la altura del cilindro: \", end=\"\")\n",
        "h = float(input())\n",
        "A = Volumen(r,h)\n",
        "\n",
        "print(\"\\nArea = {:.5f}\".format(A))"
      ],
      "execution_count": null,
      "outputs": [
        {
          "output_type": "stream",
          "text": [
            "Porfavor introduzca el radio del cilindro: 5\n",
            "Porfavor introduzca la altura del cilindro: 2\n",
            "\n",
            "Area = 157.07963\n"
          ],
          "name": "stdout"
        }
      ]
    },
    {
      "cell_type": "markdown",
      "metadata": {
        "id": "D8-BmQbWXM6s"
      },
      "source": [
        "# **Prueba**"
      ]
    }
  ]
}