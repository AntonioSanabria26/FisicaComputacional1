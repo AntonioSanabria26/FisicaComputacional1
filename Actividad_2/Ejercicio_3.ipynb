{
  "nbformat": 4,
  "nbformat_minor": 0,
  "metadata": {
    "colab": {
      "name": "Ejercicio_3.ipynb",
      "provenance": [],
      "collapsed_sections": [],
      "authorship_tag": "ABX9TyN0voZjamplbslPn0zOEwu2",
      "include_colab_link": true
    },
    "kernelspec": {
      "name": "python3",
      "display_name": "Python 3"
    }
  },
  "cells": [
    {
      "cell_type": "markdown",
      "metadata": {
        "id": "view-in-github",
        "colab_type": "text"
      },
      "source": [
        "<a href=\"https://colab.research.google.com/github/AntonioSanabria26/FisicaComputacional1/blob/master/Ejercicio_3.ipynb\" target=\"_parent\"><img src=\"https://colab.research.google.com/assets/colab-badge.svg\" alt=\"Open In Colab\"/></a>"
      ]
    },
    {
      "cell_type": "markdown",
      "metadata": {
        "id": "SC2FmwHm8iGm"
      },
      "source": [
        "# **Método de Babilonio para raiz cuadrada**\n",
        "\n",
        "![Captura de pantalla de 2021-01-20 17-55-36.png](data:image/png;base64,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)"
      ]
    },
    {
      "cell_type": "code",
      "metadata": {
        "id": "56v6MNxh7LSw",
        "colab": {
          "base_uri": "https://localhost:8080/"
        },
        "outputId": "35d420aa-3094-493a-d388-f1a5d3e83661"
      },
      "source": [
        "#----------------------------- BIBLIOTECAS ------------------------------------#\n",
        "import numpy as np\n",
        "\n",
        "#----------------------- RECOPILACION DE DATOS --------------------------------#\n",
        "print(\"Porfavor introduzca la raiz que desea sacar (S) \")\n",
        "S = float(input())\n",
        "\n",
        "print(\"Porfavor introduzca un número cercano al varor de la raiz deseada (X0)\")\n",
        "X0 = float(input())\n",
        "\n",
        "#----------------------------  OPERACIONES ------------------------------------#\n",
        "I = 0\n",
        "while I <= 0.01:\n",
        "\n",
        "  X = (1/2)*(X0+S/X0)\n",
        "  Error = abs((X0 - X)/X0)\n",
        "  X0 = X\n",
        "  print(f\"Aproximación a raíz cuadra: {X} \", f\"Error: {Error}\")\n",
        "\n",
        "  if Error <= 0.01 : \n",
        "    print(\" \")\n",
        "    print(f\"La raíz cuadrada es: {X}\")\n",
        "    break\n",
        "\n",
        "#------------------------------------------------------------------------------#\n"
      ],
      "execution_count": 58,
      "outputs": [
        {
          "output_type": "stream",
          "text": [
            "Porfavor introduzca la raiz que desea sacar (S) \n",
            "1020201\n",
            "Porfavor introduzca un número cercano al varor de la raiz deseada (X0)\n",
            "1000\n",
            "Aproximación a raíz cuadra: 1010.1005  Error: 0.01010050000000001\n",
            "Aproximación a raíz cuadra: 1010.0500000248737  Error: 4.999500062249825e-05\n",
            " \n",
            "La raíz cuadrada es: 1010.0500000248737\n"
          ],
          "name": "stdout"
        }
      ]
    }
  ]
}