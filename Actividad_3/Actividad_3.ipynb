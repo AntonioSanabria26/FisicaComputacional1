{
  "nbformat": 4,
  "nbformat_minor": 0,
  "metadata": {
    "colab": {
      "name": "Actividad 3",
      "provenance": [],
      "collapsed_sections": [
        "6Q-ZRZ4xntVr"
      ],
      "toc_visible": true,
      "authorship_tag": "ABX9TyO6ZX4fvI/Dr15RpbXVPm1W",
      "include_colab_link": true
    },
    "kernelspec": {
      "name": "python3",
      "display_name": "Python 3"
    }
  },
  "cells": [
    {
      "cell_type": "markdown",
      "metadata": {
        "id": "view-in-github",
        "colab_type": "text"
      },
      "source": [
        "<a href=\"https://colab.research.google.com/github/AntonioSanabria26/FisicaComputacional1/blob/master/Actividad_3.ipynb\" target=\"_parent\"><img src=\"https://colab.research.google.com/assets/colab-badge.svg\" alt=\"Open In Colab\"/></a>"
      ]
    },
    {
      "cell_type": "markdown",
      "metadata": {
        "id": "6Q-ZRZ4xntVr"
      },
      "source": [
        "# **Librerias**"
      ]
    },
    {
      "cell_type": "code",
      "metadata": {
        "id": "8WvKzzZmnpfA"
      },
      "source": [
        "import numpy as np\n",
        "import pandas as pd\n",
        "import matplotlib.pyplot as plt\n"
      ],
      "execution_count": 1,
      "outputs": []
    },
    {
      "cell_type": "markdown",
      "metadata": {
        "id": "jMpIzz1SoQme"
      },
      "source": [
        "# **Código**"
      ]
    },
    {
      "cell_type": "code",
      "metadata": {
        "colab": {
          "base_uri": "https://localhost:8080/"
        },
        "id": "fwsYP-TPoZmj",
        "outputId": "590e2487-7cba-4c7e-9b21-6066b343fde6"
      },
      "source": [
        "#----------- LEYENDO EL URL, DONDE EL ARCHIVO ESTA EN FORMATO CSV -------------#\n",
        "\n",
        "URL = \"https://raw.githubusercontent.com/AntonioSanabria26/FisicaComputacional1/master/Actividad1/26179.csv\"\n",
        "df = pd.read_csv( URL )\n",
        "\n",
        "#--------------------------- ESTRUCTURA DEL TEXTO -----------------------------#\n",
        "\n",
        "df = df.drop(range(0,17),axis=0)\n",
        "df = df.drop([8108,8109])\n",
        "# ELIMINACIÓN DE LAS PRIMERAS 17 LINEAS\n",
        "df = df.dropna() \n",
        "# ELIMINACION DE LAS FILAS CON N/A\n",
        "df = df.replace(to_replace= \"Nulo\" ,value = \"N/A\",regex= True )\n",
        "# REMPLAZANDO LOS \"Nulo\" , por N/A\n",
        "\n",
        "df = df[\"CNA-SMN-CG-GMC-SMAA-CLIMATOLOGIA\"].str.split(\"\\s+\", n=5, expand=True)\n",
        "#SEPARANDO LA CADENA DE TEXTO EN 5 COLUMNAS, CON SPLIT DE ESPACIO+, PARA QUE\n",
        "#PUEDA TOMAR VALORES ENCIMA DE 1 ESPACIO DE LA MEMORIA\n",
        "\n",
        "df.columns = ['Fecha', 'Precipitacion', 'Evaporacion', 'Tmax', 'Tmin']\n",
        "#NOMBRE DE LAS COLUMNAS\n",
        "\n",
        "df_columns =['Precipitacion', 'Evaporacion', 'Tmax', 'Tmin']\n",
        "for i in df_columns:\n",
        "  df[i] = pd.to_numeric( df[i] ,errors = \"coerce\")\n",
        "#CONVIRTIENDO LAS COLUMNAS df_columns A FLOTANTES\n",
        "\n",
        "df_copy = df.copy()\n",
        "# COPIA DEL DATA FRAME\n",
        "\n",
        "df[\"Fecha\"] = pd.to_datetime(df[\"Fecha\"],dayfirst=True).copy()\n",
        "df[\"Año\"] = df[\"Fecha\"].dt.year\n",
        "df[\"Mes\"] =df[\"Fecha\"].dt.month\n",
        "# CONVIRTIENDO LA FECHA \n",
        "\n",
        "\n",
        "\n",
        "\n",
        "#---------------------------- LECTURA DE DATOS --------------------------------#\n",
        "\n",
        "print(df.head(20)) #PRIMERO 10 DATOS DEL DATAFRAME\n",
        "print(\"\")\n",
        "print(df.tail(20)) #ULTIMOS 10 DATOS DEL DATAFRAME\n",
        "print(\"\")\n",
        "print(f\"Dimensiones del DataFrame {df.shape}\")\n",
        "print(\"\")\n",
        "print(df.describe())\n",
        "print(\"\")\n",
        "print(df.dtypes)\n"
      ],
      "execution_count": 6,
      "outputs": [
        {
          "output_type": "stream",
          "text": [
            "        Fecha  Precipitacion  Evaporacion  Tmax  Tmin   Año  Mes\n",
            "18 1974-07-01            0.0          7.3  35.0  22.0  1974    7\n",
            "19 1974-07-02            0.0         10.5  34.0  22.5  1974    7\n",
            "20 1974-07-03            0.0         13.6  31.5  21.0  1974    7\n",
            "21 1974-07-04            0.0         10.7  41.0  28.0  1974    7\n",
            "22 1974-07-05            0.0         10.9  35.0  28.0  1974    7\n",
            "23 1974-07-06            0.0         11.4  32.0  29.0  1974    7\n",
            "24 1974-07-07            0.0          9.4  31.5  26.0  1974    7\n",
            "25 1974-07-08            0.0         10.1  32.0  26.0  1974    7\n",
            "26 1974-07-09            0.0          7.4  32.0  26.0  1974    7\n",
            "27 1974-07-10            0.0         12.3  34.0  25.0  1974    7\n",
            "28 1974-07-11            0.0          6.2  31.0  26.0  1974    7\n",
            "29 1974-07-12           18.8          5.5  31.5  28.0  1974    7\n",
            "30 1974-07-13            0.0          7.1  31.5  22.0  1974    7\n",
            "31 1974-07-14            0.0          8.0  31.0  23.0  1974    7\n",
            "32 1974-07-15            0.0          8.6  32.0  25.0  1974    7\n",
            "33 1974-07-16            0.0          5.7  35.0  21.0  1974    7\n",
            "34 1974-07-17           23.0          4.3  33.0  23.0  1974    7\n",
            "35 1974-07-18            0.0          2.9  29.0  22.0  1974    7\n",
            "36 1974-07-19            0.0          5.6  31.0  24.0  1974    7\n",
            "37 1974-07-20            0.0          NaN  31.5  24.0  1974    7\n",
            "\n",
            "          Fecha  Precipitacion  Evaporacion  Tmax  Tmin   Año  Mes\n",
            "8088 2016-04-10            0.0          5.7  23.0  11.5  2016    4\n",
            "8089 2016-04-11            0.0          5.3  23.5  10.5  2016    4\n",
            "8090 2016-04-12            0.0          6.1  23.0  10.5  2016    4\n",
            "8091 2016-04-13            0.0          6.3  26.5  11.0  2016    4\n",
            "8092 2016-04-14            0.0          5.5  25.5  10.5  2016    4\n",
            "8093 2016-04-15            0.0          6.2  25.0  10.5  2016    4\n",
            "8094 2016-04-16            0.0          9.4  21.0   9.0  2016    4\n",
            "8095 2016-04-17            0.0          7.4  26.0   1.0  2016    4\n",
            "8096 2016-04-18            0.0          7.9  28.5  10.0  2016    4\n",
            "8097 2016-04-19            0.0          7.2  28.5  10.5  2016    4\n",
            "8098 2016-04-20            0.0          6.4  28.5  10.0  2016    4\n",
            "8099 2016-04-21            0.0          5.9  28.5   9.5  2016    4\n",
            "8100 2016-04-22            0.0          5.8  24.5  11.0  2016    4\n",
            "8101 2016-04-23            0.0          4.6  23.0  12.0  2016    4\n",
            "8102 2016-04-24            0.0          6.1  24.0  12.0  2016    4\n",
            "8103 2016-04-25            0.0          5.8  24.0   2.0  2016    4\n",
            "8104 2016-04-26            0.0          7.4  25.0  13.0  2016    4\n",
            "8105 2016-04-27            0.0          5.8  23.5   8.0  2016    4\n",
            "8106 2016-04-28            0.0          5.7  23.0   7.5  2016    4\n",
            "8107 2016-04-29            0.0          6.4  22.0  11.5  2016    4\n",
            "\n",
            "Dimensiones del DataFrame (8090, 7)\n",
            "\n",
            "       Precipitacion  Evaporacion  ...          Año          Mes\n",
            "count    8073.000000  5852.000000  ...  8090.000000  8090.000000\n",
            "mean        0.345869     5.933681  ...  1991.481088     6.460569\n",
            "std         2.831741     2.643080  ...    13.859304     3.407066\n",
            "min         0.000000     0.100000  ...  1974.000000     1.000000\n",
            "25%         0.000000     4.000000  ...  1981.000000     4.000000\n",
            "50%         0.000000     5.800000  ...  1988.000000     6.000000\n",
            "75%         0.000000     7.700000  ...  2007.000000     9.000000\n",
            "max        85.000000    17.700000  ...  2016.000000    12.000000\n",
            "\n",
            "[8 rows x 6 columns]\n",
            "\n",
            "Fecha            datetime64[ns]\n",
            "Precipitacion           float64\n",
            "Evaporacion             float64\n",
            "Tmax                    float64\n",
            "Tmin                    float64\n",
            "Año                       int64\n",
            "Mes                       int64\n",
            "dtype: object\n"
          ],
          "name": "stdout"
        }
      ]
    }
  ]
}