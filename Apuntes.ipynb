{
  "nbformat": 4,
  "nbformat_minor": 0,
  "metadata": {
    "colab": {
      "name": "Apuntes.ipynb",
      "provenance": [],
      "collapsed_sections": [],
      "authorship_tag": "ABX9TyMQD8nebrbh7VUZtaX7xQWn",
      "include_colab_link": true
    },
    "kernelspec": {
      "name": "python3",
      "display_name": "Python 3"
    }
  },
  "cells": [
    {
      "cell_type": "markdown",
      "metadata": {
        "id": "view-in-github",
        "colab_type": "text"
      },
      "source": [
        "<a href=\"https://colab.research.google.com/github/AntonioSanabria26/FisicaComputacional1/blob/master/Apuntes.ipynb\" target=\"_parent\"><img src=\"https://colab.research.google.com/assets/colab-badge.svg\" alt=\"Open In Colab\"/></a>"
      ]
    },
    {
      "cell_type": "markdown",
      "metadata": {
        "id": "kCpaYmW5wCzZ"
      },
      "source": [
        "# **Listas**"
      ]
    },
    {
      "cell_type": "code",
      "metadata": {
        "colab": {
          "base_uri": "https://localhost:8080/"
        },
        "id": "1CNkUlhRvLqu",
        "outputId": "87832ccc-e3f2-4752-ab34-320378345e65"
      },
      "source": [
        "\n",
        "lista1 = [1,2,3,4]\n",
        "lista2 = [1,2,3,4]\n",
        "print(lista1)\n",
        "print(lista2)\n",
        "print(lista1+lista2)"
      ],
      "execution_count": null,
      "outputs": [
        {
          "output_type": "stream",
          "text": [
            "[1, 2, 3, 4]\n",
            "[1, 2, 3, 4]\n",
            "[1, 2, 3, 4, 1, 2, 3, 4]\n"
          ],
          "name": "stdout"
        }
      ]
    },
    {
      "cell_type": "markdown",
      "metadata": {
        "id": "WywamvQvwGvP"
      },
      "source": [
        "# **Arrays**"
      ]
    },
    {
      "cell_type": "code",
      "metadata": {
        "colab": {
          "base_uri": "https://localhost:8080/"
        },
        "id": "TSAgzg3uwPEL",
        "outputId": "a519eb1a-dc22-431b-ff79-9a6446911af9"
      },
      "source": [
        "import numpy as np\n",
        "\n",
        "# Construcción de un arreglo\n",
        "\n",
        "s1 = np.array([1,2,3,4])      # Arreglo de enteros\n",
        "s2 = np.array([1,2,3,4.0])   # Un número flotante convierte al arreglo a flotante\n",
        "s3 = np.array([1,2,3,'4'])    # Un arreglo con un carácter, convierte a todo el arreglo de caracteres. \n",
        "s4 = np.arange(0,5,0.5)     # Inserta puntos cada 0.5 entre 0 y 5, incluyendo extremos\n",
        "s5 = np.linspace(0,5,20)    # Inserta 20 puntos aleatorios entre 0 y 5, incluyendo extremos\n",
        "\n",
        "# Acceso a los elementos de un arreglo\n",
        "\n",
        "print(s1[2])       # accede al 3er elemento de s1\n",
        "print(s1[1:3])    # accede del 2o elemento hasta antes del 4o.   \n",
        "\n",
        "# Una dimensión\n",
        "\n",
        "x = np.array([1,2,3,4])\n",
        "y = np.array([1,2,3,4])\n",
        "\n",
        "# Dos dimensiones\n",
        "\n",
        "x1 = np.array([[0, 1], [1, 5]])\n",
        "y1 = np.array([[4, 0], [0, 4]])\n",
        "\n",
        "#Operación con arreglos (Sólo si los elementos son numéricos) \n",
        "\n",
        "x+y      # suma\n",
        "x/y       # división \n",
        "2*x       # multiplicación por una constante\n",
        "x**2     # potencia\n",
        "x @ y               # multiplicación de arreglos \n",
        "np.dot(x,y)      # producto escalar\n",
        "np.sum(x)       # suma de elementos\n",
        "np.sqrt(x)       # evalúa la raiz cuadrada a cada elemento\n",
        "np.exp(x)       # evalúa la exponencial del arreglo\n",
        "np.log(x)        # evalúa el logaritmo "
      ],
      "execution_count": null,
      "outputs": [
        {
          "output_type": "stream",
          "text": [
            "[2 3]\n"
          ],
          "name": "stdout"
        },
        {
          "output_type": "execute_result",
          "data": {
            "text/plain": [
              "array([0.        , 0.69314718, 1.09861229, 1.38629436])"
            ]
          },
          "metadata": {
            "tags": []
          },
          "execution_count": 13
        }
      ]
    },
    {
      "cell_type": "code",
      "metadata": {
        "colab": {
          "base_uri": "https://localhost:8080/"
        },
        "id": "mtg25IQzw6cM",
        "outputId": "3ee4523f-75fa-4da8-bbe1-e2ace7cdaecb"
      },
      "source": [
        "a = np.array([[1,2,3],\n",
        "              [6,9,3],\n",
        "              [5,7,3],\n",
        "              [4,5,1]])\n",
        "print(a)"
      ],
      "execution_count": null,
      "outputs": [
        {
          "output_type": "stream",
          "text": [
            "[[1 2 3]\n",
            " [6 9 3]\n",
            " [5 7 3]\n",
            " [4 5 1]]\n"
          ],
          "name": "stdout"
        }
      ]
    },
    {
      "cell_type": "code",
      "metadata": {
        "colab": {
          "base_uri": "https://localhost:8080/"
        },
        "id": "Famr59Qy1bkw",
        "outputId": "7b063a62-b726-4b47-dc8b-a6b9c3fb0f8b"
      },
      "source": [
        "a[:,1] #Como vemos en este apartado los arrays empiezan desde 0, por o que la columna 1\n",
        "     #Es a segunda de nuestro array"
      ],
      "execution_count": null,
      "outputs": [
        {
          "output_type": "execute_result",
          "data": {
            "text/plain": [
              "array([2, 9, 7, 5])"
            ]
          },
          "metadata": {
            "tags": []
          },
          "execution_count": 90
        }
      ]
    },
    {
      "cell_type": "markdown",
      "metadata": {
        "id": "O2gudBVQ4qHO"
      },
      "source": [
        "# **Gráficas de funciones en 2D**"
      ]
    },
    {
      "cell_type": "code",
      "metadata": {
        "colab": {
          "base_uri": "https://localhost:8080/",
          "height": 295
        },
        "id": "ehwGP0K-4xVp",
        "outputId": "e57f61ba-d0e1-4d70-b4de-04f70d3f8d50"
      },
      "source": [
        "# Cargar la subbiblioteca pytlot de Matplotlib \n",
        "\n",
        "import matplotlib.pyplot as plt\n",
        "\n",
        "# Gráfica de funciones\n",
        "# Definición de variables y funciones\n",
        "\n",
        "x = np.linspace(-np.pi,np.pi,100)  # arrego de 100 puntos entre -pi y pi\n",
        "y = np.sin(x)      # y será también un arreglo de 100 puntos automáticamente \n",
        "y1 = x\n",
        "y3 = x**3\n",
        "y5 = x**5\n",
        "sT = y1 - y3 + y5 # Serie de Taylor de sin(x) a 5o. Orden.\n",
        " \n",
        "# Creación de la gráficas\n",
        "\n",
        "plt.subplot(111)\n",
        "plt.xlabel(\"X label\")\n",
        "plt.ylabel(\"Y label\")\n",
        "plt.title(\"Title\")\n",
        "\n",
        "# Graficar varias funciones\n",
        "\n",
        "plt.plot(x,y, label=\"sin(x)\")\n",
        "plt.plot(x,y1, label='x')\n",
        "plt.plot(x,sT, label='Serie Taylor Orden 5')\n",
        "\n",
        "# Agregar una malla\n",
        "\n",
        "plt.grid(True)\n",
        "\n",
        "# Fijar los límites en el eje Y.\n",
        "\n",
        "plt.ylim(-2, 2)\n",
        "\n",
        "# Ubicación de las etiquetas de las funciones\n",
        "\n",
        "plt.legend(bbox_to_anchor=(1,1), loc=\"upper left\")\n",
        "plt.show()\n",
        "\n",
        "#plt.savefig('plot.png')  # Si se desea guardar en un archivo la imagen de la gráfica"
      ],
      "execution_count": null,
      "outputs": [
        {
          "output_type": "display_data",
          "data": {
            "image/png": "[encoded data removed]",
            "text/plain": [
              "<Figure size 432x288 with 1 Axes>"
            ]
          },
          "metadata": {
            "tags": [],
            "needs_background": "light"
          }
        }
      ]
    }
  ]
}