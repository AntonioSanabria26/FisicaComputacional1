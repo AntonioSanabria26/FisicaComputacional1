{
  "nbformat": 4,
  "nbformat_minor": 0,
  "metadata": {
    "colab": {
      "name": "Actividad 3",
      "provenance": [],
      "toc_visible": true,
      "authorship_tag": "ABX9TyOez++fHvg/vuHO+Qat+AOM",
      "include_colab_link": true
    },
    "kernelspec": {
      "name": "python3",
      "display_name": "Python 3"
    }
  },
  "cells": [
    {
      "cell_type": "markdown",
      "metadata": {
        "id": "view-in-github",
        "colab_type": "text"
      },
      "source": [
        "<a href=\"https://colab.research.google.com/github/AntonioSanabria26/FisicaComputacional1/blob/master/Actividad_3.ipynb\" target=\"_parent\"><img src=\"https://colab.research.google.com/assets/colab-badge.svg\" alt=\"Open In Colab\"/></a>"
      ]
    },
    {
      "cell_type": "markdown",
      "metadata": {
        "id": "6Q-ZRZ4xntVr"
      },
      "source": [
        "# **Librerias**"
      ]
    },
    {
      "cell_type": "code",
      "metadata": {
        "id": "8WvKzzZmnpfA"
      },
      "source": [
        "import numpy as np\n",
        "import pandas as pd\n",
        "import matplotlib.pyplot as plt\n"
      ],
      "execution_count": 6,
      "outputs": []
    },
    {
      "cell_type": "markdown",
      "metadata": {
        "id": "jMpIzz1SoQme"
      },
      "source": [
        "# **Código**"
      ]
    },
    {
      "cell_type": "code",
      "metadata": {
        "colab": {
          "base_uri": "https://localhost:8080/",
          "height": 359
        },
        "id": "fwsYP-TPoZmj",
        "outputId": "f0330411-8ea3-4d42-fca2-690ecac8ffcc"
      },
      "source": [
        "#----------- LEYENDO EL URL, DONDE EL ARCHIVO ESTA EN FORMATO CSV -------------#\n",
        "\n",
        "URL = \"https://raw.githubusercontent.com/AntonioSanabria26/FisicaComputacional1/master/Actividad1/26179.csv\"\n",
        "df = pd.read_csv( URL )\n",
        "\n",
        "#--------------------------- ESTRUCTURA DEL TEXTO -----------------------------#\n",
        "\n",
        "df = df.drop(range(0,17),axis=0) \n",
        "# ELIMINACIÓN DE LAS PRIMERAS 17 LINEAS\n",
        "df = df.dropna() \n",
        "# ELIMINACION DE LAS FILAS CON N/A\n",
        "\n",
        "df = df[\"CNA-SMN-CG-GMC-SMAA-CLIMATOLOGIA\"].str.split(\"\\s+\", n=5, expand=True)\n",
        "#SEPARANDO LA CADENA DE TEXTO EN 5 COLUMNAS, CON SPLIT DE ESPACIO+, PARA QUE\n",
        "#PUEDA TOMAR VALORES ENCIMA DE 1 ESPACIO DE LA MEMORIA\n",
        "\n",
        "df.columns = ['Fecha', 'Precipitacion', 'Evaporacion', 'Tmax', 'Tmin']\n",
        "#NOMBRE DE LAS COLUMNAS\n",
        "\n",
        "df.head(10)"
      ],
      "execution_count": 172,
      "outputs": [
        {
          "output_type": "execute_result",
          "data": {
            "text/html": [
              "<div>\n",
              "<style scoped>\n",
              "    .dataframe tbody tr th:only-of-type {\n",
              "        vertical-align: middle;\n",
              "    }\n",
              "\n",
              "    .dataframe tbody tr th {\n",
              "        vertical-align: top;\n",
              "    }\n",
              "\n",
              "    .dataframe thead th {\n",
              "        text-align: right;\n",
              "    }\n",
              "</style>\n",
              "<table border=\"1\" class=\"dataframe\">\n",
              "  <thead>\n",
              "    <tr style=\"text-align: right;\">\n",
              "      <th></th>\n",
              "      <th>Fecha</th>\n",
              "      <th>Precipitacion</th>\n",
              "      <th>Evaporacion</th>\n",
              "      <th>Tmax</th>\n",
              "      <th>Tmin</th>\n",
              "    </tr>\n",
              "  </thead>\n",
              "  <tbody>\n",
              "    <tr>\n",
              "      <th>18</th>\n",
              "      <td>01/07/1974</td>\n",
              "      <td>0</td>\n",
              "      <td>7.3</td>\n",
              "      <td>35</td>\n",
              "      <td>22</td>\n",
              "    </tr>\n",
              "    <tr>\n",
              "      <th>19</th>\n",
              "      <td>02/07/1974</td>\n",
              "      <td>0</td>\n",
              "      <td>10.5</td>\n",
              "      <td>34</td>\n",
              "      <td>22.5</td>\n",
              "    </tr>\n",
              "    <tr>\n",
              "      <th>20</th>\n",
              "      <td>03/07/1974</td>\n",
              "      <td>0</td>\n",
              "      <td>13.6</td>\n",
              "      <td>31.5</td>\n",
              "      <td>21</td>\n",
              "    </tr>\n",
              "    <tr>\n",
              "      <th>21</th>\n",
              "      <td>04/07/1974</td>\n",
              "      <td>0</td>\n",
              "      <td>10.7</td>\n",
              "      <td>41</td>\n",
              "      <td>28</td>\n",
              "    </tr>\n",
              "    <tr>\n",
              "      <th>22</th>\n",
              "      <td>05/07/1974</td>\n",
              "      <td>0</td>\n",
              "      <td>10.9</td>\n",
              "      <td>35</td>\n",
              "      <td>28</td>\n",
              "    </tr>\n",
              "    <tr>\n",
              "      <th>23</th>\n",
              "      <td>06/07/1974</td>\n",
              "      <td>0</td>\n",
              "      <td>11.4</td>\n",
              "      <td>32</td>\n",
              "      <td>29</td>\n",
              "    </tr>\n",
              "    <tr>\n",
              "      <th>24</th>\n",
              "      <td>07/07/1974</td>\n",
              "      <td>0</td>\n",
              "      <td>9.4</td>\n",
              "      <td>31.5</td>\n",
              "      <td>26</td>\n",
              "    </tr>\n",
              "    <tr>\n",
              "      <th>25</th>\n",
              "      <td>08/07/1974</td>\n",
              "      <td>0</td>\n",
              "      <td>10.1</td>\n",
              "      <td>32</td>\n",
              "      <td>26</td>\n",
              "    </tr>\n",
              "    <tr>\n",
              "      <th>26</th>\n",
              "      <td>09/07/1974</td>\n",
              "      <td>0</td>\n",
              "      <td>7.4</td>\n",
              "      <td>32</td>\n",
              "      <td>26</td>\n",
              "    </tr>\n",
              "    <tr>\n",
              "      <th>27</th>\n",
              "      <td>10/07/1974</td>\n",
              "      <td>0</td>\n",
              "      <td>12.3</td>\n",
              "      <td>34</td>\n",
              "      <td>25</td>\n",
              "    </tr>\n",
              "  </tbody>\n",
              "</table>\n",
              "</div>"
            ],
            "text/plain": [
              "         Fecha Precipitacion Evaporacion  Tmax  Tmin\n",
              "18  01/07/1974             0         7.3    35    22\n",
              "19  02/07/1974             0        10.5    34  22.5\n",
              "20  03/07/1974             0        13.6  31.5    21\n",
              "21  04/07/1974             0        10.7    41    28\n",
              "22  05/07/1974             0        10.9    35    28\n",
              "23  06/07/1974             0        11.4    32    29\n",
              "24  07/07/1974             0         9.4  31.5    26\n",
              "25  08/07/1974             0        10.1    32    26\n",
              "26  09/07/1974             0         7.4    32    26\n",
              "27  10/07/1974             0        12.3    34    25"
            ]
          },
          "metadata": {
            "tags": []
          },
          "execution_count": 172
        }
      ]
    }
  ]
}